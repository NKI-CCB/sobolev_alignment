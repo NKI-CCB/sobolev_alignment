{
 "cells": [
  {
   "cell_type": "markdown",
   "id": "d8dc2b9e-f321-4aa5-a88f-59983dd76285",
   "metadata": {},
   "source": [
    "# Simple tutorial: integration with basic parameters"
   ]
  },
  {
   "cell_type": "code",
   "execution_count": null,
   "id": "c7c6862e-4de9-465c-b496-7a6ab634341d",
   "metadata": {},
   "outputs": [],
   "source": [
    "\n",
    "import numpy as np\n",
    "import scanpy as sc\n",
    "from sobolev_alignment import SobolevAlignment"
   ]
  },
  {
   "cell_type": "markdown",
   "id": "41cafd72-9fe9-4f0b-b358-d3ac9803cd34",
   "metadata": {},
   "source": [
    "## Import data\n",
    "Please refer to \"process_data.ipynb\" for a tutorial on how to set up the AnnData for input."
   ]
  },
  {
   "cell_type": "code",
   "execution_count": null,
   "id": "7f22ee51-0ade-441d-a806-50332529c4c8",
   "metadata": {},
   "outputs": [],
   "source": [
    "source_an = sc.read_h5ad('./data/kinker.h5ad')\n",
    "target_an = sc.read_h5ad('./data/kim.h5ad')"
   ]
  },
  {
   "cell_type": "code",
   "execution_count": null,
   "id": "b4065df1-3bd3-4c75-8316-9260ba6f5d14",
   "metadata": {},
   "outputs": [],
   "source": [
    "common_genes = np.intersect1d(source_an.var.index, target_an.var.index)\n",
    "source_an = source_an[:,common_genes]\n",
    "target_an = target_an[:,common_genes]"
   ]
  },
  {
   "cell_type": "markdown",
   "id": "84e6842f-4cc3-41ca-a0bf-652bcd559248",
   "metadata": {},
   "source": [
    "## Sobolev Alignment\n",
    "### Train scVI"
   ]
  },
  {
   "cell_type": "code",
   "execution_count": null,
   "id": "3d5a9fcd-5235-415e-84a7-30b2fe4dd94e",
   "metadata": {},
   "outputs": [],
   "source": [
    "sobolev_alignment_clf = SobolevAlignment(\n",
    "    source_batch_name=None,\n",
    "    target_batch_name=None,\n",
    "    n_artificial_samples=int(1e5),\n",
    "    n_samples_per_sample_batch=int(1e5),\n",
    "    no_posterior_collapse=False\n",
    ")"
   ]
  },
  {
   "cell_type": "code",
   "execution_count": null,
   "id": "3fb894bd-bd3f-48df-b9b2-166aee284063",
   "metadata": {},
   "outputs": [],
   "source": [
    "# Limit epochs for test, just quote for full deployment\n",
    "sobolev_alignment_clf.scvi_params['source']['train']['max_epochs'] = 100\n",
    "sobolev_alignment_clf.scvi_params['target']['train']['max_epochs'] = 100"
   ]
  },
  {
   "cell_type": "code",
   "execution_count": null,
   "id": "e625e862-4e82-4812-8dd5-62917238b68c",
   "metadata": {
    "scrolled": true,
    "tags": []
   },
   "outputs": [],
   "source": [
    "sobolev_alignment_clf.fit(\n",
    "    X_source=source_an,\n",
    "    X_target=target_an,\n",
    "    fit_vae=True, krr_approx=False, sample_artificial=False\n",
    ")"
   ]
  },
  {
   "cell_type": "markdown",
   "id": "27f334b1-0d16-4d96-a922-9c70e7cb28ab",
   "metadata": {},
   "source": [
    "### KRR approximation"
   ]
  },
  {
   "cell_type": "code",
   "execution_count": null,
   "id": "19c9dd9f-0a3d-41c6-8194-6031bcd7fcb4",
   "metadata": {
    "scrolled": true,
    "tags": []
   },
   "outputs": [],
   "source": [
    "# Select best model for KRR\n",
    "sobolev_alignment_clf.krr_model_selection(\n",
    "    X_source=source_an,\n",
    "    X_target=target_an,\n",
    "    M=500,\n",
    "    same_model_alignment_thresh=0.95\n",
    ")"
   ]
  },
  {
   "cell_type": "code",
   "execution_count": null,
   "id": "ff0c03f8-3b39-4caf-8cbe-a23f6c8ca92d",
   "metadata": {},
   "outputs": [],
   "source": [
    "# Increase M for the new one\n",
    "sobolev_alignment_clf.krr_params['source']['M'] = 1000\n",
    "sobolev_alignment_clf.krr_params['target']['M'] = 1000"
   ]
  },
  {
   "cell_type": "code",
   "execution_count": null,
   "id": "f734d556-2db8-4386-95fe-bd25669708bf",
   "metadata": {
    "scrolled": true,
    "tags": []
   },
   "outputs": [],
   "source": [
    "# Fit last model, with increased M\n",
    "sobolev_alignment_clf.fit(\n",
    "    X_source=source_an,\n",
    "    X_target=target_an,\n",
    "    fit_vae=False,\n",
    "    krr_approx=True,\n",
    "    sample_artificial=True\n",
    ")"
   ]
  },
  {
   "cell_type": "markdown",
   "id": "58c0c8db-fee8-4daf-a09e-c82edaed7825",
   "metadata": {},
   "source": [
    "## Estimate number of shared principal vectors"
   ]
  },
  {
   "cell_type": "code",
   "execution_count": null,
   "id": "1a340d1c-8a11-4472-85b4-02f1e6173ad1",
   "metadata": {},
   "outputs": [],
   "source": [
    "n_similar_pvs = sobolev_alignment_clf.permutation_test_number_similar_pvs(n_permutations=10)"
   ]
  },
  {
   "cell_type": "code",
   "execution_count": null,
   "id": "7e679fff-b796-4001-983a-80d351eac141",
   "metadata": {},
   "outputs": [],
   "source": [
    "sobolev_alignment_clf.principal_angles"
   ]
  },
  {
   "cell_type": "markdown",
   "id": "7035e4d3-f37d-443c-9e65-94af5498e6dd",
   "metadata": {},
   "source": [
    "## Project data"
   ]
  },
  {
   "cell_type": "code",
   "execution_count": null,
   "id": "63ca359b-ccb2-4ac4-b2f0-d44c0081fad2",
   "metadata": {},
   "outputs": [],
   "source": [
    "consensus_feature_an = sobolev_alignment_clf.compute_consensus_features(\n",
    "    {'source': source_an, 'target': target_an},\n",
    "    n_similar_pv=n_similar_pvs, return_anndata=True\n",
    ")"
   ]
  },
  {
   "cell_type": "code",
   "execution_count": null,
   "id": "3ea31c7b-b7ab-4833-a31b-91e298f8f2a0",
   "metadata": {},
   "outputs": [],
   "source": [
    "sc.pp.neighbors(consensus_feature_an, use_rep='X_sobolev_alignment')\n",
    "sc.tl.umap(consensus_feature_an)"
   ]
  },
  {
   "cell_type": "code",
   "execution_count": null,
   "id": "a3dc60bd-e63f-44f9-a70e-41a37ff2e513",
   "metadata": {},
   "outputs": [],
   "source": [
    "sc.pl.umap(consensus_feature_an, color='data_source')"
   ]
  },
  {
   "cell_type": "markdown",
   "id": "182f9d32-6fb9-4720-bfb7-499ed3cdd3a6",
   "metadata": {},
   "source": [
    "## MNN projection"
   ]
  },
  {
   "cell_type": "code",
   "execution_count": null,
   "id": "5d041906-0721-460b-9515-a99345deedce",
   "metadata": {},
   "outputs": [],
   "source": [
    "import rpy2.robjects as robjects\n",
    "from rpy2.robjects import pandas2ri\n",
    "from rpy2.robjects.packages import importr\n",
    "\n",
    "pandas2ri.activate()\n",
    "\n",
    "importr('batchelor')"
   ]
  },
  {
   "cell_type": "code",
   "execution_count": null,
   "id": "104c63d8-adc0-4542-9fa7-eaa051376abd",
   "metadata": {},
   "outputs": [],
   "source": [
    "source_sobal = np.array(consensus_feature_an[consensus_feature_an.obs['data_source'] == 'source',:].obsm['X_sobolev_alignment'])\n",
    "sourcer = robjects.r.matrix(source_sobal.T, nrow=source_sobal.shape[1], ncol=source_sobal.shape[0])\n",
    "\n",
    "target_sobal = np.array(consensus_feature_an[consensus_feature_an.obs['data_source'] == 'target',:].obsm['X_sobolev_alignment'])\n",
    "targetr = robjects.r.matrix(target_sobal.T, nrow=target_sobal.shape[1], ncol=target_sobal.shape[0])\n",
    "\n",
    "robjects.r.assign(\"source\", sourcer)\n",
    "robjects.r.assign(\"target\", targetr)\n",
    "\n",
    "robjects.r('''\n",
    "    interpolated_corrected.signal <- mnnCorrect(\n",
    "        source,\n",
    "        target,\n",
    "        cos.norm.in = TRUE, \n",
    "        cos.norm.out = TRUE\n",
    "    )\n",
    "    corrected.frame <- interpolated_corrected.signal@assays@data$corrected\n",
    "''')\n",
    "consensus_feature_an.obsm['X_sobolev_alignment_mnn'] = robjects.r['corrected.frame'].T"
   ]
  },
  {
   "cell_type": "code",
   "execution_count": null,
   "id": "5a19d8d0-fbab-4a6f-a0b0-53b3642ffc2e",
   "metadata": {},
   "outputs": [],
   "source": [
    "sc.pp.neighbors(consensus_feature_an, use_rep='X_sobolev_alignment_mnn')\n",
    "sc.tl.umap(consensus_feature_an)"
   ]
  },
  {
   "cell_type": "code",
   "execution_count": null,
   "id": "a966b4f9-13c0-45d9-ba0a-92e413fddf1f",
   "metadata": {},
   "outputs": [],
   "source": [
    "sc.pl.umap(consensus_feature_an, color='data_source')"
   ]
  },
  {
   "cell_type": "markdown",
   "id": "77a66313-95a5-4680-b937-8d5c87b70c17",
   "metadata": {},
   "source": [
    "## Consensus feature interpretation"
   ]
  },
  {
   "cell_type": "code",
   "execution_count": null,
   "id": "993ade5c-5095-4100-b84f-a737b890fa04",
   "metadata": {
    "scrolled": true,
    "tags": []
   },
   "outputs": [],
   "source": [
    "# WARNING: issue with gene_names = None, TO FIX\n",
    "sobolev_alignment_clf.n_jobs = 5\n",
    "linear_gene_weights = sobolev_alignment_clf.feature_analysis(max_order=1)#, gene_names=source_an.var.index)"
   ]
  },
  {
   "cell_type": "code",
   "execution_count": null,
   "id": "37d476fd-cf5f-4417-bbdc-67bb72e96352",
   "metadata": {},
   "outputs": [],
   "source": [
    "# Linear weights of source PVs, ordered by first PV\n",
    "sobolev_alignment_clf.pv_level_feature_weights_df['source'].T.sort_values(0)"
   ]
  }
 ],
 "metadata": {
  "kernelspec": {
   "display_name": "sobolev_alignment",
   "language": "python",
   "name": "sobolev_alignment"
  },
  "language_info": {
   "codemirror_mode": {
    "name": "ipython",
    "version": 3
   },
   "file_extension": ".py",
   "mimetype": "text/x-python",
   "name": "python",
   "nbconvert_exporter": "python",
   "pygments_lexer": "ipython3",
   "version": "3.9.9"
  }
 },
 "nbformat": 4,
 "nbformat_minor": 5
}
