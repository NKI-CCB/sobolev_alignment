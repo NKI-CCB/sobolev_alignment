{
 "cells": [
  {
   "cell_type": "markdown",
   "id": "33b2f0dd-037b-4c75-8cc1-f6fc778e8416",
   "metadata": {},
   "source": [
    "# First: process data for Sobolev Alignment\n",
    "In this tutorial, we give an example on how to process two datasets prior to use Sobolev Alignment.\n",
    "<br/>\n",
    "We give the example of [Kinker et al 2020] (cell lines) and [Kim et al 2020] (tumors) datasets used in the manuscript presenting Sobolev Alignment."
   ]
  },
  {
   "cell_type": "code",
   "execution_count": 2,
   "id": "1e00eee9-232a-4001-9cb1-a574bdd5629f",
   "metadata": {},
   "outputs": [],
   "source": [
    "import scanpy as sc\n",
    "import numpy as np\n",
    "import pandas as pd\n",
    "\n",
    "# Make a data folder\n",
    "! mkdir -p ./data/"
   ]
  },
  {
   "cell_type": "markdown",
   "id": "e2f11e09-b476-4712-b5a1-33b11f1a3824",
   "metadata": {},
   "source": [
    "## Kim et al\n",
    "### Download"
   ]
  },
  {
   "cell_type": "code",
   "execution_count": null,
   "id": "09eba18b-9687-4309-8cd2-5a16965f86ba",
   "metadata": {},
   "outputs": [],
   "source": [
    "# Download data\n",
    "! mkdir -p data\n",
    "! wget \"https://www.ncbi.nlm.nih.gov/geo/download/?acc=GSE131907&format=file&file=GSE131907%5FLung%5FCancer%5Fraw%5FUMI%5Fmatrix%2Etxt%2Egz\" --output-document=./data/kim.txt.gz\n",
    "! wget \"https://www.ncbi.nlm.nih.gov/geo/download/?acc=GSE131907&format=file&file=GSE131907%5FLung%5FCancer%5Fcell%5Fannotation%2Etxt%2Egz\" --output-document=./data/kim.cell_types.txt\n"
   ]
  },
  {
   "cell_type": "markdown",
   "id": "516c0304-8897-451d-a4ad-3f5be20c746a",
   "metadata": {},
   "source": [
    "### Read data and restrict to epithelial cells"
   ]
  },
  {
   "cell_type": "code",
   "execution_count": null,
   "id": "40113504-2d14-46b5-85f1-20db73278766",
   "metadata": {},
   "outputs": [],
   "source": [
    "# Restrict to cancer cells\n",
    "kim_metadata_df = pd.read_csv('./data/kim.cell_types.txt.gz', compression='gzip', sep='\\t', index_col=0)\n",
    "kim_epithelial_cells = kim_metadata_df.loc[kim_metadata_df['Cell_type'] == 'Epithelial cells'].index.astype(str)"
   ]
  },
  {
   "cell_type": "code",
   "execution_count": null,
   "id": "90702669-f808-4dd8-9a28-1bf79a5b4adc",
   "metadata": {},
   "outputs": [],
   "source": [
    "# Read only cancer cells\n",
    "kim_df = pd.read_csv(\n",
    "    './data/kim.txt.gz', \n",
    "    compression='gzip', sep='\\t', \n",
    "    usecols = ['Index'] + list(kim_epithelial_cells)\n",
    ")\n",
    "kim_df = kim_df.set_index('Index').T\n",
    "\n",
    "# Format as AnnData\n",
    "kim_an = sc.AnnData(\n",
    "    kim_df.values,\n",
    "    var=pd.DataFrame(index=kim_df.columns),\n",
    "    obs=kim_metadata_df.loc[kim_df.index]\n",
    ")"
   ]
  },
  {
   "cell_type": "markdown",
   "id": "0b479fb6-b98e-429c-8528-2d4e00175329",
   "metadata": {},
   "source": [
    "### QC and filtering"
   ]
  },
  {
   "cell_type": "code",
   "execution_count": null,
   "id": "6cee4e40-c49f-4d46-ab12-fdf14a7dc47b",
   "metadata": {},
   "outputs": [],
   "source": [
    "sc.pp.filter_cells(kim_an, min_genes=200)\n",
    "sc.pp.filter_genes(kim_an, min_cells=3)\n",
    "\n",
    "# # QC filtering\n",
    "kim_an.var['mt'] = kim_an.var_names.str.startswith('MT')  # annotate the group of mitochondrial genes as 'mt'\n",
    "sc.pp.calculate_qc_metrics(kim_an, qc_vars=['mt'], percent_top=None, log1p=False, inplace=True)\n",
    "kim_an = kim_an[kim_an.obs.n_genes_by_counts < 7500, :]\n",
    "kim_an = kim_an[kim_an.obs.pct_counts_mt < 20, :]"
   ]
  },
  {
   "cell_type": "code",
   "execution_count": null,
   "id": "06ae64a5-fd8b-43ef-bb0c-609e971eb97d",
   "metadata": {},
   "outputs": [],
   "source": [
    "# Gene filtering\n",
    "malat1 = kim_an.var_names.str.startswith('MALAT1')\n",
    "mito_genes = kim_an.var_names.str.startswith('MT-')\n",
    "hb_genes = kim_an.var_names.str.contains('^HB[^(P)]')\n",
    "\n",
    "remove = np.add(mito_genes, malat1)\n",
    "remove = np.add(remove, hb_genes)\n",
    "keep = np.invert(remove)\n",
    "\n",
    "kim_an = kim_an[:,keep]"
   ]
  },
  {
   "cell_type": "markdown",
   "id": "10d73d5d-8f5c-455e-a716-4d5e2f914030",
   "metadata": {},
   "source": [
    "### Highly variable genes"
   ]
  },
  {
   "cell_type": "code",
   "execution_count": null,
   "id": "59359023-d652-4723-afc7-ea597a4d89f7",
   "metadata": {},
   "outputs": [],
   "source": [
    "sc.pp.highly_variable_genes(kim_an, flavor='seurat_v3', n_top_genes=2000)\n",
    "kim_an = kim_an[:,kim_an.var.highly_variable]\n",
    "\n",
    "# For scVI\n",
    "kim_an.layers['counts'] = kim_an.X"
   ]
  },
  {
   "cell_type": "markdown",
   "id": "79136018-ff41-4c09-a55b-3a833b06f0bf",
   "metadata": {},
   "source": [
    "### Save"
   ]
  },
  {
   "cell_type": "code",
   "execution_count": null,
   "id": "e7ab76be-9ffa-460a-9bcf-e35bb0d50e70",
   "metadata": {},
   "outputs": [],
   "source": [
    "kim_an.write_h5ad('./data/kim.h5ad')"
   ]
  },
  {
   "cell_type": "markdown",
   "id": "ff6a107b-e487-410b-a124-c41790584add",
   "metadata": {},
   "source": [
    "## Kinker et al\n",
    "### Download\n",
    "Please download the data from the Broad Institute website (https://singlecell.broadinstitute.org/single_cell/study/SCP542/pan-cancer-cell-line-heterogeneity#/). Put the UMI count files as ./data/kinker.txt and the cell typing file as './data/kinker.cell_types.txt'."
   ]
  },
  {
   "cell_type": "markdown",
   "id": "14792b89-f8ef-494e-8e2b-9fda37c0d8d6",
   "metadata": {},
   "source": [
    "### Read data and select lung cancer cell lines"
   ]
  },
  {
   "cell_type": "code",
   "execution_count": null,
   "id": "3e9fa828-cb0d-4a14-8ff2-b2638e916f22",
   "metadata": {},
   "outputs": [],
   "source": [
    "# Restrict to lung cancer cells\n",
    "kinker_metadata_df = pd.read_csv('./data/kinker.cell_types.txt', sep='\\t', header=[0,1])\n",
    "kinker_metadata_df.columns = kinker_metadata_df.columns.get_level_values(0)\n",
    "kinker_lung_cancer_cell = kinker_metadata_df.loc[kinker_metadata_df['Cancer_type'] == 'Lung Cancer']['NAME'].values"
   ]
  },
  {
   "cell_type": "code",
   "execution_count": null,
   "id": "51c11882-2e74-4056-9b11-34ee3a922238",
   "metadata": {},
   "outputs": [],
   "source": [
    "# Read only cancer cells\n",
    "kinker_df = pd.read_csv(\n",
    "    './data/kinker.txt', \n",
    "    sep='\\t',\n",
    "    header=[0,1,2], \n",
    "    index_col=0,\n",
    ")\n",
    "kinker_df = kinker_df[kinker_lung_cancer_cell]"
   ]
  },
  {
   "cell_type": "code",
   "execution_count": null,
   "id": "db473fa0-d297-4f64-9b81-6f0302ecb96e",
   "metadata": {},
   "outputs": [],
   "source": [
    "# Format as AnnData\n",
    "kinker_an = sc.AnnData(\n",
    "    kinker_df.values,\n",
    "    var=pd.DataFrame(index=kinker_df.columns),\n",
    "    obs=kinker_metadata_df.set_index('NAME').loc[kinker_df.index.get_level_values(0)]\n",
    ")"
   ]
  },
  {
   "cell_type": "markdown",
   "id": "e65fd04f-4bea-44ed-9e96-bf89022c3f22",
   "metadata": {},
   "source": [
    "### Filter and QC"
   ]
  },
  {
   "cell_type": "code",
   "execution_count": null,
   "id": "288b0f73-3c6b-4e07-b81d-3ca44096753a",
   "metadata": {},
   "outputs": [],
   "source": [
    "sc.pp.filter_cells(kinker_an, min_genes=200)\n",
    "sc.pp.filter_genes(kinker_an, min_cells=3)\n",
    "\n",
    "# # QC filtering\n",
    "kinker_an.var['mt'] = kinker_an.var_names.str.startswith('MT')  # annotate the group of mitochondrial genes as 'mt'\n",
    "sc.pp.calculate_qc_metrics(kinker_an, qc_vars=['mt'], percent_top=None, log1p=False, inplace=True)\n",
    "kinker_an = kinker_an[kinker_an.obs.n_genes_by_counts < 7500, :]\n",
    "kinker_an = kinker_an[kinker_an.obs.pct_counts_mt < 20, :]"
   ]
  },
  {
   "cell_type": "code",
   "execution_count": null,
   "id": "3aa6fd66-a43e-40db-a48c-5ceb63690122",
   "metadata": {},
   "outputs": [],
   "source": [
    "# Gene filtering\n",
    "malat1 = kinker_an.var_names.str.startswith('MALAT1')\n",
    "mito_genes = kinker_an.var_names.str.startswith('MT-')\n",
    "hb_genes = kinker_an.var_names.str.contains('^HB[^(P)]')\n",
    "\n",
    "remove = np.add(mito_genes, malat1)\n",
    "remove = np.add(remove, hb_genes)\n",
    "keep = np.invert(remove)\n",
    "\n",
    "kinker_an = kinker_an[:,keep]"
   ]
  },
  {
   "cell_type": "markdown",
   "id": "d5123afe-5569-4320-98b6-be4515413645",
   "metadata": {},
   "source": [
    "### Highly variable genes"
   ]
  },
  {
   "cell_type": "code",
   "execution_count": null,
   "id": "9bfeef3b-ecaf-4388-8e63-cb136488fa1b",
   "metadata": {},
   "outputs": [],
   "source": [
    "sc.pp.highly_variable_genes(kinker_an, flavor='seurat_v3', n_top_genes=2000)\n",
    "kinker_an = kinker_an[:,kinker_an.var.highly_variable]\n",
    "\n",
    "# For scVI\n",
    "kinker_an.layers['counts'] = kinker_an.X"
   ]
  },
  {
   "cell_type": "markdown",
   "id": "fc14fc8f-2c36-45d2-bae5-a4c80b8b6ff2",
   "metadata": {},
   "source": [
    "### Save"
   ]
  },
  {
   "cell_type": "code",
   "execution_count": null,
   "id": "3ac34562-9b00-4ffb-91ce-b61b43f7953a",
   "metadata": {},
   "outputs": [],
   "source": [
    "kinker_an.obs = kinker_an.obs.dropna(axis=1)\n",
    "kinker_an.obs['Pool_ID'] = kinker_an.obs['Pool_ID'].astype(str)\n",
    "kinker_an.write_h5ad('./data/kinker.h5ad')"
   ]
  }
 ],
 "metadata": {
  "kernelspec": {
   "display_name": "sobolev_alignment",
   "language": "python",
   "name": "sobolev_alignment"
  },
  "language_info": {
   "codemirror_mode": {
    "name": "ipython",
    "version": 3
   },
   "file_extension": ".py",
   "mimetype": "text/x-python",
   "name": "python",
   "nbconvert_exporter": "python",
   "pygments_lexer": "ipython3",
   "version": "3.9.16"
  }
 },
 "nbformat": 4,
 "nbformat_minor": 5
}
